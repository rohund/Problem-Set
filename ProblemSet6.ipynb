{
 "cells": [
  {
   "cell_type": "code",
   "execution_count": null,
   "id": "67d1af2d-789e-409d-9080-c1f5d7dee037",
   "metadata": {},
   "outputs": [],
   "source": [
    "#Exercise 0"
   ]
  },
  {
   "cell_type": "code",
   "execution_count": 12,
   "id": "d60e64a6-4a5c-46c5-88b0-2f73b4bc4448",
   "metadata": {},
   "outputs": [],
   "source": [
    "def github() -> str:\n",
    "\n",
    "    return \"https://github.com/rohund/ProblemSet/blob/main/ProblemSet6.py\""
   ]
  },
  {
   "cell_type": "code",
   "execution_count": 13,
   "id": "f8614f2c-0a68-4f82-93c7-45c748d594eb",
   "metadata": {},
   "outputs": [],
   "source": [
    "#Exercise 1"
   ]
  },
  {
   "cell_type": "code",
   "execution_count": 19,
   "id": "6e2a1fb6-c096-4e0a-a4d8-23f31c6690f1",
   "metadata": {},
   "outputs": [
    {
     "name": "stdout",
     "output_type": "stream",
     "text": [
      "       itemid       std\n",
      "0   172998011  0.000000\n",
      "1   174445924  0.577350\n",
      "2   174551689  1.830034\n",
      "3   174767945  8.607399\n",
      "4   174871788  3.109126\n",
      "..        ...       ...\n",
      "82  182571641  7.767700\n",
      "83  182660924  4.364634\n",
      "84  182745253  2.884098\n",
      "85  182883873  0.707107\n",
      "86  182925212  1.154701\n",
      "\n",
      "[87 rows x 2 columns]\n"
     ]
    }
   ],
   "source": [
    "import pandas as pd\n",
    "from sqlalchemy import create_engine\n",
    "from sqlalchemy.orm import Session\n",
    "from sqlalchemy import text\n",
    "\n",
    "path = \"/home/jovyan/econ-481-jupyterhub/auctions.db\"\n",
    "\n",
    "class DataBase:\n",
    "    def __init__(self, loc: str, db_type: str = \"sqlite\") -> None:\n",
    "        \"\"\"Initialize the class and connect to the database\"\"\"\n",
    "        self.loc = loc\n",
    "        self.db_type = db_type\n",
    "        self.engine = create_engine(f'{self.db_type}:///{self.loc}')\n",
    "    def query(self, q: str) -> pd.DataFrame:\n",
    "        \"\"\"Run a query against the database and return a DataFrame\"\"\"\n",
    "        with Session(self.engine) as session:\n",
    "            df = pd.read_sql(q, session.bind)\n",
    "        return(df)\n",
    "    def execute(self, q: str) -> None:\n",
    "        \"\"\"Execute statement on the database\"\"\"\n",
    "        with self.engine.connect() as conn:\n",
    "            conn.execute(text(q))\n",
    "\n",
    "auctions = DataBase(path)\n",
    "query = \"\"\"\n",
    "select itemid,\n",
    "sqrt(sum((bidamount - avg_bid) * (bidamount - avg_bid)) / (count(*) - 1)) as std\n",
    "from (select itemid,\n",
    "    bidamount,\n",
    "    avg(bidamount) over (partition by itemid) as avg_bid\n",
    "    from bids)\n",
    "group by itemid\n",
    "having count(*) > 1\n",
    "\"\"\"\n",
    "print(auctions.query(query))"
   ]
  },
  {
   "cell_type": "code",
   "execution_count": 20,
   "id": "d1b54af5-0cad-4e75-b5b4-f51b19ed1457",
   "metadata": {},
   "outputs": [],
   "source": [
    "#Exercsise 2"
   ]
  },
  {
   "cell_type": "code",
   "execution_count": 21,
   "id": "c7e0ddc7-3f48-4acb-920a-f3aa59186cd4",
   "metadata": {},
   "outputs": [],
   "source": [
    "def bidder_spend_frac() -> str:\n",
    "    q = \"\"\"\n",
    "    select b.biddername\n",
    "    , b.total_bids as total_bids\n",
    "    , case when s.total_spend is null then 0 else s.total_spend end as total_spend\n",
    "    , case when s.total_spend is null then 0 else s.total_spend end / b.total_bids as spend_frac\n",
    "    from (\n",
    "        select biddername\n",
    "        , sum(maxbid) as total_bids\n",
    "        from (\n",
    "            select biddername\n",
    "            , itemid\n",
    "            , max(bidamount) as maxbid\n",
    "            from bids\n",
    "            group by biddername, itemid\n",
    "            )\n",
    "        group by biddername) as b\n",
    "    left join\n",
    "        (\n",
    "        select biddername\n",
    "        , sum(maxbid) as total_spend\n",
    "        from (\n",
    "            select biddername\n",
    "            , max(bidamount) as maxbid\n",
    "            from bids\n",
    "            group by itemid\n",
    "        )\n",
    "        group by biddername) as s\n",
    "    on b.biddername = s.biddername\n",
    "    \"\"\"\n",
    "    return q\n",
    "   \n",
    "   "
   ]
  },
  {
   "cell_type": "code",
   "execution_count": 22,
   "id": "e6c48278-6eeb-4e8b-85d7-e6f63f7fa39b",
   "metadata": {},
   "outputs": [],
   "source": [
    "#Exercise 3"
   ]
  },
  {
   "cell_type": "code",
   "execution_count": 23,
   "id": "74cbd54f-b545-4ba0-9d97-aeba2c055835",
   "metadata": {},
   "outputs": [
    {
     "name": "stdout",
     "output_type": "stream",
     "text": [
      "       freq\n",
      "0  0.184502\n"
     ]
    }
   ],
   "source": [
    "def min_increment_freq() -> str:\n",
    "    \n",
    "    query = \"\"\"\n",
    "    WITH ranked_bids AS (\n",
    "        SELECT\n",
    "            b.itemid,\n",
    "            b.bidderName,\n",
    "            b.bidamount,\n",
    "            i.bidIncrement,\n",
    "            ROW_NUMBER() OVER (PARTITION BY b.itemid ORDER BY b.bidamount) AS rn\n",
    "        FROM\n",
    "            bids b\n",
    "        JOIN\n",
    "            items i ON b.itemid = i.itemid\n",
    "        WHERE\n",
    "            i.isBuyNowUsed = 0\n",
    "    ),\n",
    "    prev_bids AS (\n",
    "        SELECT\n",
    "            rb.itemid,\n",
    "            rb.bidderName,\n",
    "            rb.bidamount,\n",
    "            rb.bidIncrement,\n",
    "            rb.rn,\n",
    "            LAG(rb.bidamount) OVER (PARTITION BY rb.itemid ORDER BY rb.rn) AS prev_bid\n",
    "        FROM\n",
    "            ranked_bids rb\n",
    "    ),\n",
    "    increment_bids AS (\n",
    "        SELECT\n",
    "            itemid,\n",
    "            bidderName,\n",
    "            bidamount,\n",
    "            bidIncrement,\n",
    "            prev_bid\n",
    "        FROM\n",
    "            prev_bids\n",
    "        WHERE\n",
    "            prev_bid IS NOT NULL\n",
    "            AND bidamount = prev_bid + bidIncrement\n",
    "    )\n",
    "    SELECT\n",
    "        COUNT(*) * 1.0 / (SELECT COUNT(*) FROM bids b JOIN items i ON b.itemid = i.itemid WHERE i.isBuyNowUsed = 0) AS freq\n",
    "    FROM\n",
    "        increment_bids;\n",
    "    \"\"\"\n",
    "    return query\n",
    "auctions = DataBase(path)\n",
    "min_increment_freq_query = min_increment_freq()\n",
    "result_df = auctions.query(min_increment_freq_query)\n",
    "print(result_df)\n"
   ]
  },
  {
   "cell_type": "code",
   "execution_count": 24,
   "id": "7029f1fd-a176-41cc-8a43-f74db8953453",
   "metadata": {},
   "outputs": [],
   "source": [
    "#Exercise 4"
   ]
  },
  {
   "cell_type": "code",
   "execution_count": 25,
   "id": "cb388dce-3bb4-4602-b823-d24d1075d4c2",
   "metadata": {},
   "outputs": [],
   "source": [
    "def win_perc_by_timestamp() -> str:\n",
    "    q = \"\"\"\n",
    "    select time_norm as timestamp_bin\n",
    "    , avg(iswinbid) as win_perc\n",
    "    from (\n",
    "        with a as (\n",
    "            select itemid, starttime, endtime,\n",
    "            julianday(endtime) - julianday(starttime) as length\n",
    "            from items\n",
    "        )\n",
    "        select b.itemid, b.bidtime, a.starttime, a.endtime,\n",
    "        cast(((julianday(endtime)-julianday(bidtime)) / a.length)*10+1 as integar) as time_norm\n",
    "        , b.bidamount == max(bidamount) over (partition by b.itemid) as iswinbid\n",
    "        from bids as b\n",
    "        inner join a\n",
    "        on b.itemid=a.itemid\n",
    "        )\n",
    "    group by timestamp_bin\n",
    "    \"\"\"\n",
    "    return q"
   ]
  }
 ],
 "metadata": {
  "kernelspec": {
   "display_name": "Python 3 (ipykernel)",
   "language": "python",
   "name": "python3"
  },
  "language_info": {
   "codemirror_mode": {
    "name": "ipython",
    "version": 3
   },
   "file_extension": ".py",
   "mimetype": "text/x-python",
   "name": "python",
   "nbconvert_exporter": "python",
   "pygments_lexer": "ipython3",
   "version": "3.10.13"
  }
 },
 "nbformat": 4,
 "nbformat_minor": 5
}
