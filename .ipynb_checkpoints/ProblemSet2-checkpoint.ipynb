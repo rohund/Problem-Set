{
 "cells": [
  {
   "cell_type": "code",
   "execution_count": null,
   "id": "811fd4a7-dfba-4f35-aa92-820c06c7a039",
   "metadata": {},
   "outputs": [],
   "source": [
    "#Exercise 0"
   ]
  },
  {
   "cell_type": "code",
   "execution_count": 1,
   "id": "e740f217-a384-46b2-84d7-0b59656eed6b",
   "metadata": {},
   "outputs": [],
   "source": [
    "def github() -> str:\n",
    "\n",
    "\n",
    "    return \"https://github.com/<user>/<repo>/blob/main/<filename.py>\""
   ]
  },
  {
   "cell_type": "code",
   "execution_count": 9,
   "id": "eacd5e28-f1a2-4bae-8e7b-ce70d8683356",
   "metadata": {},
   "outputs": [],
   "source": [
    "#Exercise 1"
   ]
  },
  {
   "cell_type": "code",
   "execution_count": 10,
   "id": "71f24027-7930-4d3f-bf12-e706d41f7011",
   "metadata": {},
   "outputs": [],
   "source": [
    "import numpy as np\n",
    "\n",
    "def simulate_data(seed: int = 481) -> tuple:\n",
    "\n",
    "    np.random.seed(seed) \n",
    "    \n",
    "   \n",
    "    X = np.random.normal(loc=0, scale=np.sqrt(2), size=(1000, 3))\n",
    "    \n",
    "\n",
    "    e = np.random.normal(loc=0, scale=1, size=(1000, 1))\n",
    "    \n",
    "  \n",
    "    y = 5 + 3*X[:,0] + 2*X[:,1] + 6*X[:,2] + e\n",
    "    \n",
    "    return (y, X)\n"
   ]
  },
  {
   "cell_type": "code",
   "execution_count": 4,
   "id": "96ba570d-3d43-46e8-839a-e1eb3f149a63",
   "metadata": {},
   "outputs": [],
   "source": [
    "#Excersise 2"
   ]
  },
  {
   "cell_type": "code",
   "execution_count": 15,
   "id": "e1c46b7b-348a-46b1-b5d3-8522443071c1",
   "metadata": {},
   "outputs": [],
   "source": [
    "import numpy as np\n",
    "import scipy as sp\n",
    "\n",
    "\n",
    "def estimate_mle(y: np.array, X: np.array) -> np.array:\n",
    " \n",
    " \n",
    "    initial_guess = np.ones(4).reshape(-1)\n",
    "    \n",
    "  \n",
    "    result = sp.optimize.minimize(\n",
    "        fun = linear_regression,\n",
    "        x0 = initial_guess,\n",
    "        args = (y, X),\n",
    "        method='Nelder-Mead'\n",
    "    )\n",
    "    \n",
    "   \n",
    "    coefficients = result.x\n",
    "    return coefficients"
   ]
  },
  {
   "cell_type": "code",
   "execution_count": 18,
   "id": "050ec673-9898-440d-a79e-5b23b74c948e",
   "metadata": {},
   "outputs": [],
   "source": [
    "def linear_regression(params, y, X):\n",
    " \n",
    "    X = np.c_[np.ones(X.shape[0]).reshape(-1,1), X]\n",
    "    \n",
    "    e = y - (X @ params)\n",
    "    prob_e = (np.exp((-e**2)/2)/(np.sqrt(2 * np.pi)))\n",
    "\n",
    "    return -np.sum(np.log(prob_e))"
   ]
  },
  {
   "cell_type": "code",
   "execution_count": 9,
   "id": "381b3882-2e5e-4bb2-a89e-66f518134570",
   "metadata": {},
   "outputs": [],
   "source": [
    "#Exercise 3"
   ]
  },
  {
   "cell_type": "code",
   "execution_count": 3,
   "id": "b8033d8e-a438-400c-ae4c-53e758d985d0",
   "metadata": {},
   "outputs": [],
   "source": [
    "import numpy as np\n",
    "import scipy as sp\n",
    "\n",
    "\n",
    "\n",
    "def estimate_ols(y, X):\n",
    "\n",
    "    \n",
    "  \n",
    "    initial_guess = np.ones(4).reshape(-1)\n",
    "    \n",
    "   \n",
    "    result = sp.optimize.minimize(\n",
    "        fun = ols_residuals,\n",
    "        x0 = initial_guess,\n",
    "        args = (y, X),\n",
    "        method='Nelder-Mead'\n",
    "    )\n",
    "    \n",
    "   \n",
    "    coefficients = result.x\n",
    "    \n",
    "    return coefficients\n",
    "\n"
   ]
  },
  {
   "cell_type": "code",
   "execution_count": 12,
   "id": "74a6ded0-965f-4a8a-8ae6-86bb780ec092",
   "metadata": {},
   "outputs": [],
   "source": [
    "def ols_residuals(beta, y, X):\n",
    "\n",
    "\n",
    "    X = np.c_[np.ones(X.shape[0]).reshape(-1,1), X]\n",
    "    \n",
    "    e = y - (X @ beta)\n",
    "    e_sums = np.sum(np.square(e))\n",
    "    return np.sum(np.square(e))"
   ]
  }
 ],
 "metadata": {
  "kernelspec": {
   "display_name": "Python 3 (ipykernel)",
   "language": "python",
   "name": "python3"
  },
  "language_info": {
   "codemirror_mode": {
    "name": "ipython",
    "version": 3
   },
   "file_extension": ".py",
   "mimetype": "text/x-python",
   "name": "python",
   "nbconvert_exporter": "python",
   "pygments_lexer": "ipython3",
   "version": "3.10.13"
  }
 },
 "nbformat": 4,
 "nbformat_minor": 5
}
