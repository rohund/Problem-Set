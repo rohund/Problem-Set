{
 "cells": [
  {
   "cell_type": "code",
   "execution_count": null,
   "id": "e1c0debe-7890-4737-901a-e13291e9b64f",
   "metadata": {},
   "outputs": [],
   "source": [
    "#Exercise 0"
   ]
  },
  {
   "cell_type": "code",
   "execution_count": null,
   "id": "4ef550bf-dd88-42ea-a34a-e7378b16b7d5",
   "metadata": {},
   "outputs": [],
   "source": [
    "def github() -> str:\n",
    "\n",
    "    return \"\"https://github.com/rohund/Problem-Set/blob/main/ProblemSet3.py\""
   ]
  },
  {
   "cell_type": "code",
   "execution_count": 4,
   "id": "0f24fc0e-3ba9-47b7-b82a-11f833291430",
   "metadata": {},
   "outputs": [],
   "source": [
    "#Exercise 1"
   ]
  },
  {
   "cell_type": "code",
   "execution_count": 59,
   "id": "b4765c4d-aaa8-44fb-9bb0-7efb241dedcf",
   "metadata": {},
   "outputs": [],
   "source": [
    "def import_yearly_data(years: list) -> pd.DataFrame:\n",
    "    \n",
    "    dfs = pd.DataFrame()\n",
    "   \n",
    "    for year in years:\n",
    "        temp = pd.read_excel(f\"https://lukashager.netlify.app/econ-481/data/ghgp_data_{year}.xlsx\", sheet_name = 'Direct Emitters', index_col = False, skiprows = 3)\n",
    "        temp[\"year\"] = year\n",
    "        dfs = pd.concat([dfs, temp], ignore_index = True)\n",
    "\n",
    "    return dfs"
   ]
  },
  {
   "cell_type": "code",
   "execution_count": 18,
   "id": "5c3cf01c-d1fb-4ebf-ab03-030d8f31b8cc",
   "metadata": {},
   "outputs": [],
   "source": [
    "#Exercise 2"
   ]
  },
  {
   "cell_type": "code",
   "execution_count": 86,
   "id": "9a609751-9a5e-4a94-8b7a-19dd88ff91c8",
   "metadata": {},
   "outputs": [],
   "source": [
    "import pandas as pd\n",
    "\n",
    "def import_parent_companies(years: list) -> pd.DataFrame:\n",
    "\n",
    "    dfs = pd.DataFrame()\n",
    "\n",
    "    for year in years: \n",
    "        temp = pd.read_excel(f\"https://lukashager.netlify.app/econ-481/data/ghgp_data_parent_company_09_2023.xlsb\", sheet_name = year, index_col = False)\n",
    "        temp['year'] = year\n",
    "        dfs = pd.concat([dfs, temp], ignore_index = True)\n",
    "\n",
    "    dfs = dfs.dropna(how = 'all')\n",
    "    return dfs"
   ]
  },
  {
   "cell_type": "code",
   "execution_count": null,
   "id": "aa7c394d-941a-40f6-a42c-18426613eaea",
   "metadata": {},
   "outputs": [],
   "source": [
    "#Excercise 3"
   ]
  },
  {
   "cell_type": "code",
   "execution_count": 51,
   "id": "a793d294-e8b0-4c5a-9528-746983cbf62c",
   "metadata": {},
   "outputs": [],
   "source": [
    "import pandas as pd\n",
    "\n",
    "def n_null(df: pd.DataFrame, col: str) -> int:\n",
    "\n",
    "    return df[col].isnull().sum()\n"
   ]
  },
  {
   "cell_type": "code",
   "execution_count": 39,
   "id": "b9a4d9af-95bf-4b3d-8813-f60f3850b986",
   "metadata": {},
   "outputs": [],
   "source": [
    "#Exercise 4"
   ]
  },
  {
   "cell_type": "code",
   "execution_count": 82,
   "id": "8ef804b9-119e-4935-96d9-30e98b41bd08",
   "metadata": {},
   "outputs": [],
   "source": [
    "import pandas as pd\n",
    "\n",
    "def clean_data(emissions_data: pd.DataFrame, parent_data: pd.DataFrame) -> pd.DataFrame:\n",
    "\n",
    "    merged_data = pd.merge(emissions_data, parent_data, \n",
    "                           left_on=['year', 'Facility Id'], \n",
    "                           right_on=['year', 'GHGRP FACILITY ID'], \n",
    "                           how='left')\n",
    "\n",
    "    cleaned_data = merged_data[['Facility Id', 'year', 'State', 'Industry Type (sectors)',\n",
    "                                'Total reported direct emissions', 'PARENT CO. STATE', \n",
    "                                'PARENT CO. PERCENT OWNERSHIP']]\n",
    "\n",
    "    cleaned_data.columns = map(str.lower, cleaned_data.columns)\n",
    "\n",
    "    return cleaned_data\n"
   ]
  },
  {
   "cell_type": "code",
   "execution_count": null,
   "id": "d8c23f2e-1508-4c1a-8d66-4f750f2a1452",
   "metadata": {},
   "outputs": [],
   "source": [
    "#Excercise 5"
   ]
  },
  {
   "cell_type": "code",
   "execution_count": 96,
   "id": "371be52b-b4d8-44d3-b754-d09d45c45849",
   "metadata": {},
   "outputs": [],
   "source": [
    "import pandas as pd\n",
    "\n",
    "def aggregate_emissions(df: pd.DataFrame, group_vars: list) -> pd.DataFrame:\n",
    "\n",
    "    aggregated = df.groupby(group_vars).agg({\n",
    "        'total reported direct emissions': ['min', 'median', 'mean', 'max'],\n",
    "        'parent co. percent ownership': ['min', 'median', 'mean', 'max']\n",
    "    }, as_index = True)\n",
    "    \n",
    " \n",
    "    aggregated = aggregated.sort_values(by=('total reported direct emissions', 'mean'), ascending=False)\n",
    "    \n",
    "    return aggregated\n"
   ]
  }
 ],
 "metadata": {
  "kernelspec": {
   "display_name": "Python 3 (ipykernel)",
   "language": "python",
   "name": "python3"
  },
  "language_info": {
   "codemirror_mode": {
    "name": "ipython",
    "version": 3
   },
   "file_extension": ".py",
   "mimetype": "text/x-python",
   "name": "python",
   "nbconvert_exporter": "python",
   "pygments_lexer": "ipython3",
   "version": "3.10.13"
  }
 },
 "nbformat": 4,
 "nbformat_minor": 5
}
